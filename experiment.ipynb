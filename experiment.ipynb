{
 "cells": [
  {
   "cell_type": "code",
   "execution_count": 1,
   "id": "624dae3f",
   "metadata": {
    "_cell_guid": "b1076dfc-b9ad-4769-8c92-a6c4dae69d19",
    "_uuid": "8f2839f25d086af736a60e9eeb907d3b93b6e0e5",
    "execution": {
     "iopub.execute_input": "2022-03-24T07:18:47.204695Z",
     "iopub.status.busy": "2022-03-24T07:18:47.199586Z",
     "iopub.status.idle": "2022-03-24T07:18:47.224141Z",
     "shell.execute_reply": "2022-03-24T07:18:47.223410Z",
     "shell.execute_reply.started": "2022-03-24T07:06:11.825560Z"
    },
    "papermill": {
     "duration": 0.066841,
     "end_time": "2022-03-24T07:18:47.224331",
     "exception": false,
     "start_time": "2022-03-24T07:18:47.157490",
     "status": "completed"
    },
    "tags": []
   },
   "outputs": [
    {
     "name": "stdout",
     "output_type": "stream",
     "text": [
      "/kaggle/input/iris/Iris.csv\n",
      "/kaggle/input/iris/database.sqlite\n"
     ]
    }
   ],
   "source": [
    "# This Python 3 environment comes with many helpful analytics libraries installed\n",
    "# It is defined by the kaggle/python Docker image: https://github.com/kaggle/docker-python\n",
    "# For example, here's several helpful packages to load\n",
    "\n",
    "import numpy as np # linear algebra\n",
    "import pandas as pd # data processing, CSV file I/O (e.g. pd.read_csv)\n",
    "\n",
    "# Input data files are available in the read-only \"../input/\" directory\n",
    "# For example, running this (by clicking run or pressing Shift+Enter) will list all files under the input directory\n",
    "\n",
    "import os\n",
    "for dirname, _, filenames in os.walk('/kaggle/input'):\n",
    "    for filename in filenames:\n",
    "        print(os.path.join(dirname, filename))\n",
    "\n",
    "# You can write up to 20GB to the current directory (/kaggle/working/) that gets preserved as output when you create a version using \"Save & Run All\" \n",
    "# You can also write temporary files to /kaggle/temp/, but they won't be saved outside of the current session"
   ]
  },
  {
   "cell_type": "code",
   "execution_count": 2,
   "id": "d52d4504",
   "metadata": {
    "execution": {
     "iopub.execute_input": "2022-03-24T07:18:47.302828Z",
     "iopub.status.busy": "2022-03-24T07:18:47.302146Z",
     "iopub.status.idle": "2022-03-24T07:18:47.332613Z",
     "shell.execute_reply": "2022-03-24T07:18:47.333167Z",
     "shell.execute_reply.started": "2022-03-24T07:06:11.894333Z"
    },
    "papermill": {
     "duration": 0.07164,
     "end_time": "2022-03-24T07:18:47.333348",
     "exception": false,
     "start_time": "2022-03-24T07:18:47.261708",
     "status": "completed"
    },
    "tags": []
   },
   "outputs": [
    {
     "data": {
      "text/html": [
       "<div>\n",
       "<style scoped>\n",
       "    .dataframe tbody tr th:only-of-type {\n",
       "        vertical-align: middle;\n",
       "    }\n",
       "\n",
       "    .dataframe tbody tr th {\n",
       "        vertical-align: top;\n",
       "    }\n",
       "\n",
       "    .dataframe thead th {\n",
       "        text-align: right;\n",
       "    }\n",
       "</style>\n",
       "<table border=\"1\" class=\"dataframe\">\n",
       "  <thead>\n",
       "    <tr style=\"text-align: right;\">\n",
       "      <th></th>\n",
       "      <th>Id</th>\n",
       "      <th>SepalLengthCm</th>\n",
       "      <th>SepalWidthCm</th>\n",
       "      <th>PetalLengthCm</th>\n",
       "      <th>PetalWidthCm</th>\n",
       "      <th>Species</th>\n",
       "    </tr>\n",
       "  </thead>\n",
       "  <tbody>\n",
       "    <tr>\n",
       "      <th>0</th>\n",
       "      <td>1</td>\n",
       "      <td>5.1</td>\n",
       "      <td>3.5</td>\n",
       "      <td>1.4</td>\n",
       "      <td>0.2</td>\n",
       "      <td>Iris-setosa</td>\n",
       "    </tr>\n",
       "    <tr>\n",
       "      <th>1</th>\n",
       "      <td>2</td>\n",
       "      <td>4.9</td>\n",
       "      <td>3.0</td>\n",
       "      <td>1.4</td>\n",
       "      <td>0.2</td>\n",
       "      <td>Iris-setosa</td>\n",
       "    </tr>\n",
       "    <tr>\n",
       "      <th>2</th>\n",
       "      <td>3</td>\n",
       "      <td>4.7</td>\n",
       "      <td>3.2</td>\n",
       "      <td>1.3</td>\n",
       "      <td>0.2</td>\n",
       "      <td>Iris-setosa</td>\n",
       "    </tr>\n",
       "    <tr>\n",
       "      <th>3</th>\n",
       "      <td>4</td>\n",
       "      <td>4.6</td>\n",
       "      <td>3.1</td>\n",
       "      <td>1.5</td>\n",
       "      <td>0.2</td>\n",
       "      <td>Iris-setosa</td>\n",
       "    </tr>\n",
       "    <tr>\n",
       "      <th>4</th>\n",
       "      <td>5</td>\n",
       "      <td>5.0</td>\n",
       "      <td>3.6</td>\n",
       "      <td>1.4</td>\n",
       "      <td>0.2</td>\n",
       "      <td>Iris-setosa</td>\n",
       "    </tr>\n",
       "  </tbody>\n",
       "</table>\n",
       "</div>"
      ],
      "text/plain": [
       "   Id  SepalLengthCm  SepalWidthCm  PetalLengthCm  PetalWidthCm      Species\n",
       "0   1            5.1           3.5            1.4           0.2  Iris-setosa\n",
       "1   2            4.9           3.0            1.4           0.2  Iris-setosa\n",
       "2   3            4.7           3.2            1.3           0.2  Iris-setosa\n",
       "3   4            4.6           3.1            1.5           0.2  Iris-setosa\n",
       "4   5            5.0           3.6            1.4           0.2  Iris-setosa"
      ]
     },
     "execution_count": 2,
     "metadata": {},
     "output_type": "execute_result"
    }
   ],
   "source": [
    "df = pd.read_csv(\"../input/iris/Iris.csv\")\n",
    "df.head()"
   ]
  },
  {
   "cell_type": "code",
   "execution_count": 3,
   "id": "6c027995",
   "metadata": {
    "execution": {
     "iopub.execute_input": "2022-03-24T07:18:47.413559Z",
     "iopub.status.busy": "2022-03-24T07:18:47.412851Z",
     "iopub.status.idle": "2022-03-24T07:18:47.419406Z",
     "shell.execute_reply": "2022-03-24T07:18:47.419912Z",
     "shell.execute_reply.started": "2022-03-24T07:06:11.964261Z"
    },
    "papermill": {
     "duration": 0.050523,
     "end_time": "2022-03-24T07:18:47.420105",
     "exception": false,
     "start_time": "2022-03-24T07:18:47.369582",
     "status": "completed"
    },
    "tags": []
   },
   "outputs": [
    {
     "data": {
      "text/plain": [
       "array(['Iris-setosa', 'Iris-versicolor', 'Iris-virginica'], dtype=object)"
      ]
     },
     "execution_count": 3,
     "metadata": {},
     "output_type": "execute_result"
    }
   ],
   "source": [
    "df['Species'].unique()"
   ]
  },
  {
   "cell_type": "code",
   "execution_count": 4,
   "id": "e65980ca",
   "metadata": {
    "execution": {
     "iopub.execute_input": "2022-03-24T07:18:47.501449Z",
     "iopub.status.busy": "2022-03-24T07:18:47.500723Z",
     "iopub.status.idle": "2022-03-24T07:18:47.517652Z",
     "shell.execute_reply": "2022-03-24T07:18:47.517085Z",
     "shell.execute_reply.started": "2022-03-24T07:06:12.035132Z"
    },
    "papermill": {
     "duration": 0.060317,
     "end_time": "2022-03-24T07:18:47.517810",
     "exception": false,
     "start_time": "2022-03-24T07:18:47.457493",
     "status": "completed"
    },
    "tags": []
   },
   "outputs": [
    {
     "data": {
      "text/plain": [
       "((50, 6), (50, 6), (50, 6))"
      ]
     },
     "execution_count": 4,
     "metadata": {},
     "output_type": "execute_result"
    }
   ],
   "source": [
    "setosa = df[df['Species']=='Iris-setosa']\n",
    "versicolor = df[df['Species']=='Iris-versicolor']\n",
    "virginica = df[df['Species']=='Iris-virginica']\n",
    "setosa.shape, versicolor.shape, virginica.shape"
   ]
  },
  {
   "cell_type": "code",
   "execution_count": 5,
   "id": "5b8650c0",
   "metadata": {
    "execution": {
     "iopub.execute_input": "2022-03-24T07:18:47.618704Z",
     "iopub.status.busy": "2022-03-24T07:18:47.617977Z",
     "iopub.status.idle": "2022-03-24T07:18:47.620632Z",
     "shell.execute_reply": "2022-03-24T07:18:47.621126Z",
     "shell.execute_reply.started": "2022-03-24T07:06:12.134416Z"
    },
    "papermill": {
     "duration": 0.054932,
     "end_time": "2022-03-24T07:18:47.621312",
     "exception": false,
     "start_time": "2022-03-24T07:18:47.566380",
     "status": "completed"
    },
    "tags": []
   },
   "outputs": [
    {
     "data": {
      "text/plain": [
       "((20, 6), (20, 6), (20, 6))"
      ]
     },
     "execution_count": 5,
     "metadata": {},
     "output_type": "execute_result"
    }
   ],
   "source": [
    "setosa_1  = setosa[:20]  \n",
    "versicolor_1 = versicolor[:20]\n",
    "virginica_1 = virginica[:20]\n",
    "setosa_1.shape, versicolor_1.shape, virginica_1.shape"
   ]
  },
  {
   "cell_type": "code",
   "execution_count": 6,
   "id": "4d6ec4ad",
   "metadata": {
    "execution": {
     "iopub.execute_input": "2022-03-24T07:18:47.702292Z",
     "iopub.status.busy": "2022-03-24T07:18:47.701630Z",
     "iopub.status.idle": "2022-03-24T07:18:47.708857Z",
     "shell.execute_reply": "2022-03-24T07:18:47.709362Z",
     "shell.execute_reply.started": "2022-03-24T07:06:12.245137Z"
    },
    "papermill": {
     "duration": 0.048854,
     "end_time": "2022-03-24T07:18:47.709530",
     "exception": false,
     "start_time": "2022-03-24T07:18:47.660676",
     "status": "completed"
    },
    "tags": []
   },
   "outputs": [
    {
     "data": {
      "text/plain": [
       "(60, 6)"
      ]
     },
     "execution_count": 6,
     "metadata": {},
     "output_type": "execute_result"
    }
   ],
   "source": [
    "exten = setosa_1.append(versicolor_1)\n",
    "iris_1 = exten.append(virginica_1)\n",
    "iris_1.shape"
   ]
  },
  {
   "cell_type": "code",
   "execution_count": 7,
   "id": "a6faf2f8",
   "metadata": {
    "execution": {
     "iopub.execute_input": "2022-03-24T07:18:47.790820Z",
     "iopub.status.busy": "2022-03-24T07:18:47.789806Z",
     "iopub.status.idle": "2022-03-24T07:18:47.806141Z",
     "shell.execute_reply": "2022-03-24T07:18:47.806696Z",
     "shell.execute_reply.started": "2022-03-24T07:06:12.514854Z"
    },
    "papermill": {
     "duration": 0.058474,
     "end_time": "2022-03-24T07:18:47.806866",
     "exception": false,
     "start_time": "2022-03-24T07:18:47.748392",
     "status": "completed"
    },
    "tags": []
   },
   "outputs": [
    {
     "data": {
      "text/html": [
       "<div>\n",
       "<style scoped>\n",
       "    .dataframe tbody tr th:only-of-type {\n",
       "        vertical-align: middle;\n",
       "    }\n",
       "\n",
       "    .dataframe tbody tr th {\n",
       "        vertical-align: top;\n",
       "    }\n",
       "\n",
       "    .dataframe thead th {\n",
       "        text-align: right;\n",
       "    }\n",
       "</style>\n",
       "<table border=\"1\" class=\"dataframe\">\n",
       "  <thead>\n",
       "    <tr style=\"text-align: right;\">\n",
       "      <th></th>\n",
       "      <th>Id</th>\n",
       "      <th>SepalLengthCm</th>\n",
       "      <th>SepalWidthCm</th>\n",
       "      <th>PetalLengthCm</th>\n",
       "      <th>PetalWidthCm</th>\n",
       "      <th>Species</th>\n",
       "    </tr>\n",
       "  </thead>\n",
       "  <tbody>\n",
       "    <tr>\n",
       "      <th>116</th>\n",
       "      <td>117</td>\n",
       "      <td>6.5</td>\n",
       "      <td>3.0</td>\n",
       "      <td>5.5</td>\n",
       "      <td>1.8</td>\n",
       "      <td>Iris-virginica</td>\n",
       "    </tr>\n",
       "    <tr>\n",
       "      <th>56</th>\n",
       "      <td>57</td>\n",
       "      <td>6.3</td>\n",
       "      <td>3.3</td>\n",
       "      <td>4.7</td>\n",
       "      <td>1.6</td>\n",
       "      <td>Iris-versicolor</td>\n",
       "    </tr>\n",
       "    <tr>\n",
       "      <th>100</th>\n",
       "      <td>101</td>\n",
       "      <td>6.3</td>\n",
       "      <td>3.3</td>\n",
       "      <td>6.0</td>\n",
       "      <td>2.5</td>\n",
       "      <td>Iris-virginica</td>\n",
       "    </tr>\n",
       "    <tr>\n",
       "      <th>111</th>\n",
       "      <td>112</td>\n",
       "      <td>6.4</td>\n",
       "      <td>2.7</td>\n",
       "      <td>5.3</td>\n",
       "      <td>1.9</td>\n",
       "      <td>Iris-virginica</td>\n",
       "    </tr>\n",
       "    <tr>\n",
       "      <th>6</th>\n",
       "      <td>7</td>\n",
       "      <td>4.6</td>\n",
       "      <td>3.4</td>\n",
       "      <td>1.4</td>\n",
       "      <td>0.3</td>\n",
       "      <td>Iris-setosa</td>\n",
       "    </tr>\n",
       "    <tr>\n",
       "      <th>108</th>\n",
       "      <td>109</td>\n",
       "      <td>6.7</td>\n",
       "      <td>2.5</td>\n",
       "      <td>5.8</td>\n",
       "      <td>1.8</td>\n",
       "      <td>Iris-virginica</td>\n",
       "    </tr>\n",
       "    <tr>\n",
       "      <th>101</th>\n",
       "      <td>102</td>\n",
       "      <td>5.8</td>\n",
       "      <td>2.7</td>\n",
       "      <td>5.1</td>\n",
       "      <td>1.9</td>\n",
       "      <td>Iris-virginica</td>\n",
       "    </tr>\n",
       "    <tr>\n",
       "      <th>117</th>\n",
       "      <td>118</td>\n",
       "      <td>7.7</td>\n",
       "      <td>3.8</td>\n",
       "      <td>6.7</td>\n",
       "      <td>2.2</td>\n",
       "      <td>Iris-virginica</td>\n",
       "    </tr>\n",
       "    <tr>\n",
       "      <th>52</th>\n",
       "      <td>53</td>\n",
       "      <td>6.9</td>\n",
       "      <td>3.1</td>\n",
       "      <td>4.9</td>\n",
       "      <td>1.5</td>\n",
       "      <td>Iris-versicolor</td>\n",
       "    </tr>\n",
       "    <tr>\n",
       "      <th>107</th>\n",
       "      <td>108</td>\n",
       "      <td>7.3</td>\n",
       "      <td>2.9</td>\n",
       "      <td>6.3</td>\n",
       "      <td>1.8</td>\n",
       "      <td>Iris-virginica</td>\n",
       "    </tr>\n",
       "  </tbody>\n",
       "</table>\n",
       "</div>"
      ],
      "text/plain": [
       "      Id  SepalLengthCm  SepalWidthCm  PetalLengthCm  PetalWidthCm  \\\n",
       "116  117            6.5           3.0            5.5           1.8   \n",
       "56    57            6.3           3.3            4.7           1.6   \n",
       "100  101            6.3           3.3            6.0           2.5   \n",
       "111  112            6.4           2.7            5.3           1.9   \n",
       "6      7            4.6           3.4            1.4           0.3   \n",
       "108  109            6.7           2.5            5.8           1.8   \n",
       "101  102            5.8           2.7            5.1           1.9   \n",
       "117  118            7.7           3.8            6.7           2.2   \n",
       "52    53            6.9           3.1            4.9           1.5   \n",
       "107  108            7.3           2.9            6.3           1.8   \n",
       "\n",
       "             Species  \n",
       "116   Iris-virginica  \n",
       "56   Iris-versicolor  \n",
       "100   Iris-virginica  \n",
       "111   Iris-virginica  \n",
       "6        Iris-setosa  \n",
       "108   Iris-virginica  \n",
       "101   Iris-virginica  \n",
       "117   Iris-virginica  \n",
       "52   Iris-versicolor  \n",
       "107   Iris-virginica  "
      ]
     },
     "execution_count": 7,
     "metadata": {},
     "output_type": "execute_result"
    }
   ],
   "source": [
    "iris_1.sample(10)"
   ]
  },
  {
   "cell_type": "code",
   "execution_count": 8,
   "id": "3b7ac0c2",
   "metadata": {
    "execution": {
     "iopub.execute_input": "2022-03-24T07:18:47.893618Z",
     "iopub.status.busy": "2022-03-24T07:18:47.892622Z",
     "iopub.status.idle": "2022-03-24T07:18:47.907352Z",
     "shell.execute_reply": "2022-03-24T07:18:47.907824Z",
     "shell.execute_reply.started": "2022-03-24T07:06:12.536996Z"
    },
    "papermill": {
     "duration": 0.060878,
     "end_time": "2022-03-24T07:18:47.908019",
     "exception": false,
     "start_time": "2022-03-24T07:18:47.847141",
     "status": "completed"
    },
    "tags": []
   },
   "outputs": [
    {
     "data": {
      "text/html": [
       "<div>\n",
       "<style scoped>\n",
       "    .dataframe tbody tr th:only-of-type {\n",
       "        vertical-align: middle;\n",
       "    }\n",
       "\n",
       "    .dataframe tbody tr th {\n",
       "        vertical-align: top;\n",
       "    }\n",
       "\n",
       "    .dataframe thead th {\n",
       "        text-align: right;\n",
       "    }\n",
       "</style>\n",
       "<table border=\"1\" class=\"dataframe\">\n",
       "  <thead>\n",
       "    <tr style=\"text-align: right;\">\n",
       "      <th></th>\n",
       "      <th>index</th>\n",
       "      <th>Id</th>\n",
       "      <th>SepalLengthCm</th>\n",
       "      <th>SepalWidthCm</th>\n",
       "      <th>PetalLengthCm</th>\n",
       "      <th>PetalWidthCm</th>\n",
       "      <th>Species</th>\n",
       "    </tr>\n",
       "  </thead>\n",
       "  <tbody>\n",
       "    <tr>\n",
       "      <th>0</th>\n",
       "      <td>0</td>\n",
       "      <td>1</td>\n",
       "      <td>5.1</td>\n",
       "      <td>3.5</td>\n",
       "      <td>1.4</td>\n",
       "      <td>0.2</td>\n",
       "      <td>Iris-setosa</td>\n",
       "    </tr>\n",
       "    <tr>\n",
       "      <th>1</th>\n",
       "      <td>1</td>\n",
       "      <td>2</td>\n",
       "      <td>4.9</td>\n",
       "      <td>3.0</td>\n",
       "      <td>1.4</td>\n",
       "      <td>0.2</td>\n",
       "      <td>Iris-setosa</td>\n",
       "    </tr>\n",
       "    <tr>\n",
       "      <th>2</th>\n",
       "      <td>2</td>\n",
       "      <td>3</td>\n",
       "      <td>4.7</td>\n",
       "      <td>3.2</td>\n",
       "      <td>1.3</td>\n",
       "      <td>0.2</td>\n",
       "      <td>Iris-setosa</td>\n",
       "    </tr>\n",
       "    <tr>\n",
       "      <th>3</th>\n",
       "      <td>3</td>\n",
       "      <td>4</td>\n",
       "      <td>4.6</td>\n",
       "      <td>3.1</td>\n",
       "      <td>1.5</td>\n",
       "      <td>0.2</td>\n",
       "      <td>Iris-setosa</td>\n",
       "    </tr>\n",
       "    <tr>\n",
       "      <th>4</th>\n",
       "      <td>4</td>\n",
       "      <td>5</td>\n",
       "      <td>5.0</td>\n",
       "      <td>3.6</td>\n",
       "      <td>1.4</td>\n",
       "      <td>0.2</td>\n",
       "      <td>Iris-setosa</td>\n",
       "    </tr>\n",
       "  </tbody>\n",
       "</table>\n",
       "</div>"
      ],
      "text/plain": [
       "   index  Id  SepalLengthCm  SepalWidthCm  PetalLengthCm  PetalWidthCm  \\\n",
       "0      0   1            5.1           3.5            1.4           0.2   \n",
       "1      1   2            4.9           3.0            1.4           0.2   \n",
       "2      2   3            4.7           3.2            1.3           0.2   \n",
       "3      3   4            4.6           3.1            1.5           0.2   \n",
       "4      4   5            5.0           3.6            1.4           0.2   \n",
       "\n",
       "       Species  \n",
       "0  Iris-setosa  \n",
       "1  Iris-setosa  \n",
       "2  Iris-setosa  \n",
       "3  Iris-setosa  \n",
       "4  Iris-setosa  "
      ]
     },
     "execution_count": 8,
     "metadata": {},
     "output_type": "execute_result"
    }
   ],
   "source": [
    "iris_1.reset_index(inplace=True)\n",
    "iris_1.head()"
   ]
  },
  {
   "cell_type": "code",
   "execution_count": 9,
   "id": "915f2ca9",
   "metadata": {
    "execution": {
     "iopub.execute_input": "2022-03-24T07:18:47.990610Z",
     "iopub.status.busy": "2022-03-24T07:18:47.989594Z",
     "iopub.status.idle": "2022-03-24T07:18:47.995444Z",
     "shell.execute_reply": "2022-03-24T07:18:47.996030Z",
     "shell.execute_reply.started": "2022-03-24T07:06:12.559183Z"
    },
    "papermill": {
     "duration": 0.048697,
     "end_time": "2022-03-24T07:18:47.996207",
     "exception": false,
     "start_time": "2022-03-24T07:18:47.947510",
     "status": "completed"
    },
    "tags": []
   },
   "outputs": [],
   "source": [
    "x_1 = iris_1[['SepalLengthCm','SepalWidthCm','PetalLengthCm','PetalWidthCm']]\n",
    "y_1 = iris_1.Species"
   ]
  },
  {
   "cell_type": "code",
   "execution_count": 10,
   "id": "6a19c5d9",
   "metadata": {
    "execution": {
     "iopub.execute_input": "2022-03-24T07:18:48.078561Z",
     "iopub.status.busy": "2022-03-24T07:18:48.077548Z",
     "iopub.status.idle": "2022-03-24T07:18:49.175282Z",
     "shell.execute_reply": "2022-03-24T07:18:49.174613Z",
     "shell.execute_reply.started": "2022-03-24T07:06:12.664893Z"
    },
    "papermill": {
     "duration": 1.140032,
     "end_time": "2022-03-24T07:18:49.175444",
     "exception": false,
     "start_time": "2022-03-24T07:18:48.035412",
     "status": "completed"
    },
    "tags": []
   },
   "outputs": [],
   "source": [
    "from sklearn.model_selection import train_test_split\n",
    "x_1_train, x_1_test , y_1_train, y_1_test = train_test_split(x_1, y_1, test_size=0.3)"
   ]
  },
  {
   "cell_type": "code",
   "execution_count": 11,
   "id": "0ac1f997",
   "metadata": {
    "execution": {
     "iopub.execute_input": "2022-03-24T07:18:49.259915Z",
     "iopub.status.busy": "2022-03-24T07:18:49.259115Z",
     "iopub.status.idle": "2022-03-24T07:18:49.262347Z",
     "shell.execute_reply": "2022-03-24T07:18:49.262861Z",
     "shell.execute_reply.started": "2022-03-24T07:06:12.724610Z"
    },
    "papermill": {
     "duration": 0.048468,
     "end_time": "2022-03-24T07:18:49.263077",
     "exception": false,
     "start_time": "2022-03-24T07:18:49.214609",
     "status": "completed"
    },
    "tags": []
   },
   "outputs": [
    {
     "data": {
      "text/plain": [
       "((42, 4), (18, 4))"
      ]
     },
     "execution_count": 11,
     "metadata": {},
     "output_type": "execute_result"
    }
   ],
   "source": [
    "x_1_train.shape, x_1_test.shape"
   ]
  },
  {
   "cell_type": "code",
   "execution_count": 12,
   "id": "bdc36ef2",
   "metadata": {
    "execution": {
     "iopub.execute_input": "2022-03-24T07:18:49.348461Z",
     "iopub.status.busy": "2022-03-24T07:18:49.347456Z",
     "iopub.status.idle": "2022-03-24T07:18:49.452712Z",
     "shell.execute_reply": "2022-03-24T07:18:49.452032Z",
     "shell.execute_reply.started": "2022-03-24T07:06:12.765510Z"
    },
    "papermill": {
     "duration": 0.149587,
     "end_time": "2022-03-24T07:18:49.452863",
     "exception": false,
     "start_time": "2022-03-24T07:18:49.303276",
     "status": "completed"
    },
    "tags": []
   },
   "outputs": [
    {
     "data": {
      "text/plain": [
       "array(['Iris-virginica', 'Iris-virginica', 'Iris-versicolor',\n",
       "       'Iris-setosa', 'Iris-setosa', 'Iris-virginica', 'Iris-virginica',\n",
       "       'Iris-versicolor', 'Iris-setosa', 'Iris-setosa', 'Iris-setosa',\n",
       "       'Iris-virginica', 'Iris-versicolor', 'Iris-setosa', 'Iris-setosa',\n",
       "       'Iris-versicolor', 'Iris-versicolor', 'Iris-versicolor'],\n",
       "      dtype=object)"
      ]
     },
     "execution_count": 12,
     "metadata": {},
     "output_type": "execute_result"
    }
   ],
   "source": [
    "from sklearn.linear_model import LogisticRegression\n",
    "first_model = LogisticRegression()\n",
    "first_model.fit(x_1_train, y_1_train)\n",
    "first_pred = first_model.predict(x_1_test)\n",
    "first_pred\n"
   ]
  },
  {
   "cell_type": "code",
   "execution_count": 13,
   "id": "0dfce682",
   "metadata": {
    "execution": {
     "iopub.execute_input": "2022-03-24T07:18:49.539793Z",
     "iopub.status.busy": "2022-03-24T07:18:49.539032Z",
     "iopub.status.idle": "2022-03-24T07:18:49.542281Z",
     "shell.execute_reply": "2022-03-24T07:18:49.542758Z",
     "shell.execute_reply.started": "2022-03-24T07:06:12.804614Z"
    },
    "papermill": {
     "duration": 0.049856,
     "end_time": "2022-03-24T07:18:49.542920",
     "exception": false,
     "start_time": "2022-03-24T07:18:49.493064",
     "status": "completed"
    },
    "tags": []
   },
   "outputs": [
    {
     "data": {
      "text/plain": [
       "0.8888888888888888"
      ]
     },
     "execution_count": 13,
     "metadata": {},
     "output_type": "execute_result"
    }
   ],
   "source": [
    "from sklearn import metrics\n",
    "first_score = metrics.accuracy_score(y_1_test,first_pred)\n",
    "first_score"
   ]
  },
  {
   "cell_type": "markdown",
   "id": "ca92a4d8",
   "metadata": {
    "papermill": {
     "duration": 0.040417,
     "end_time": "2022-03-24T07:18:49.624007",
     "exception": false,
     "start_time": "2022-03-24T07:18:49.583590",
     "status": "completed"
    },
    "tags": []
   },
   "source": [
    "# 2nd Model"
   ]
  },
  {
   "cell_type": "code",
   "execution_count": 14,
   "id": "434d6d75",
   "metadata": {
    "execution": {
     "iopub.execute_input": "2022-03-24T07:18:49.709340Z",
     "iopub.status.busy": "2022-03-24T07:18:49.708346Z",
     "iopub.status.idle": "2022-03-24T07:18:49.715377Z",
     "shell.execute_reply": "2022-03-24T07:18:49.715979Z",
     "shell.execute_reply.started": "2022-03-24T07:06:12.834757Z"
    },
    "papermill": {
     "duration": 0.051133,
     "end_time": "2022-03-24T07:18:49.716172",
     "exception": false,
     "start_time": "2022-03-24T07:18:49.665039",
     "status": "completed"
    },
    "tags": []
   },
   "outputs": [
    {
     "data": {
      "text/plain": [
       "((14, 6), (14, 6), (14, 6))"
      ]
     },
     "execution_count": 14,
     "metadata": {},
     "output_type": "execute_result"
    }
   ],
   "source": [
    "setosa_2  = setosa[20:34]  \n",
    "versicolor_2 = versicolor[20:34]\n",
    "virginica_2 = virginica[20:34]\n",
    "setosa_2.shape, versicolor_2.shape, virginica_2.shape"
   ]
  },
  {
   "cell_type": "code",
   "execution_count": 15,
   "id": "db43a5bc",
   "metadata": {
    "execution": {
     "iopub.execute_input": "2022-03-24T07:18:49.802661Z",
     "iopub.status.busy": "2022-03-24T07:18:49.801953Z",
     "iopub.status.idle": "2022-03-24T07:18:49.807884Z",
     "shell.execute_reply": "2022-03-24T07:18:49.808488Z",
     "shell.execute_reply.started": "2022-03-24T07:06:12.864252Z"
    },
    "papermill": {
     "duration": 0.051904,
     "end_time": "2022-03-24T07:18:49.808653",
     "exception": false,
     "start_time": "2022-03-24T07:18:49.756749",
     "status": "completed"
    },
    "tags": []
   },
   "outputs": [
    {
     "data": {
      "text/plain": [
       "(42, 6)"
      ]
     },
     "execution_count": 15,
     "metadata": {},
     "output_type": "execute_result"
    }
   ],
   "source": [
    "exten_1 = setosa_2.append(versicolor_2)\n",
    "iris_2 = exten_1.append(virginica_2)\n",
    "iris_2.shape"
   ]
  },
  {
   "cell_type": "code",
   "execution_count": 16,
   "id": "72e6e872",
   "metadata": {
    "execution": {
     "iopub.execute_input": "2022-03-24T07:18:49.908004Z",
     "iopub.status.busy": "2022-03-24T07:18:49.906922Z",
     "iopub.status.idle": "2022-03-24T07:18:49.910793Z",
     "shell.execute_reply": "2022-03-24T07:18:49.911294Z",
     "shell.execute_reply.started": "2022-03-24T07:06:12.893868Z"
    },
    "papermill": {
     "duration": 0.061503,
     "end_time": "2022-03-24T07:18:49.911468",
     "exception": false,
     "start_time": "2022-03-24T07:18:49.849965",
     "status": "completed"
    },
    "tags": []
   },
   "outputs": [
    {
     "data": {
      "text/html": [
       "<div>\n",
       "<style scoped>\n",
       "    .dataframe tbody tr th:only-of-type {\n",
       "        vertical-align: middle;\n",
       "    }\n",
       "\n",
       "    .dataframe tbody tr th {\n",
       "        vertical-align: top;\n",
       "    }\n",
       "\n",
       "    .dataframe thead th {\n",
       "        text-align: right;\n",
       "    }\n",
       "</style>\n",
       "<table border=\"1\" class=\"dataframe\">\n",
       "  <thead>\n",
       "    <tr style=\"text-align: right;\">\n",
       "      <th></th>\n",
       "      <th>index</th>\n",
       "      <th>Id</th>\n",
       "      <th>SepalLengthCm</th>\n",
       "      <th>SepalWidthCm</th>\n",
       "      <th>PetalLengthCm</th>\n",
       "      <th>PetalWidthCm</th>\n",
       "      <th>Species</th>\n",
       "    </tr>\n",
       "  </thead>\n",
       "  <tbody>\n",
       "    <tr>\n",
       "      <th>0</th>\n",
       "      <td>20</td>\n",
       "      <td>21</td>\n",
       "      <td>5.4</td>\n",
       "      <td>3.4</td>\n",
       "      <td>1.7</td>\n",
       "      <td>0.2</td>\n",
       "      <td>Iris-setosa</td>\n",
       "    </tr>\n",
       "    <tr>\n",
       "      <th>1</th>\n",
       "      <td>21</td>\n",
       "      <td>22</td>\n",
       "      <td>5.1</td>\n",
       "      <td>3.7</td>\n",
       "      <td>1.5</td>\n",
       "      <td>0.4</td>\n",
       "      <td>Iris-setosa</td>\n",
       "    </tr>\n",
       "    <tr>\n",
       "      <th>2</th>\n",
       "      <td>22</td>\n",
       "      <td>23</td>\n",
       "      <td>4.6</td>\n",
       "      <td>3.6</td>\n",
       "      <td>1.0</td>\n",
       "      <td>0.2</td>\n",
       "      <td>Iris-setosa</td>\n",
       "    </tr>\n",
       "    <tr>\n",
       "      <th>3</th>\n",
       "      <td>23</td>\n",
       "      <td>24</td>\n",
       "      <td>5.1</td>\n",
       "      <td>3.3</td>\n",
       "      <td>1.7</td>\n",
       "      <td>0.5</td>\n",
       "      <td>Iris-setosa</td>\n",
       "    </tr>\n",
       "    <tr>\n",
       "      <th>4</th>\n",
       "      <td>24</td>\n",
       "      <td>25</td>\n",
       "      <td>4.8</td>\n",
       "      <td>3.4</td>\n",
       "      <td>1.9</td>\n",
       "      <td>0.2</td>\n",
       "      <td>Iris-setosa</td>\n",
       "    </tr>\n",
       "  </tbody>\n",
       "</table>\n",
       "</div>"
      ],
      "text/plain": [
       "   index  Id  SepalLengthCm  SepalWidthCm  PetalLengthCm  PetalWidthCm  \\\n",
       "0     20  21            5.4           3.4            1.7           0.2   \n",
       "1     21  22            5.1           3.7            1.5           0.4   \n",
       "2     22  23            4.6           3.6            1.0           0.2   \n",
       "3     23  24            5.1           3.3            1.7           0.5   \n",
       "4     24  25            4.8           3.4            1.9           0.2   \n",
       "\n",
       "       Species  \n",
       "0  Iris-setosa  \n",
       "1  Iris-setosa  \n",
       "2  Iris-setosa  \n",
       "3  Iris-setosa  \n",
       "4  Iris-setosa  "
      ]
     },
     "execution_count": 16,
     "metadata": {},
     "output_type": "execute_result"
    }
   ],
   "source": [
    "iris_2.reset_index(inplace=True)\n",
    "iris_2.head()"
   ]
  },
  {
   "cell_type": "code",
   "execution_count": 17,
   "id": "42233936",
   "metadata": {
    "execution": {
     "iopub.execute_input": "2022-03-24T07:18:50.003340Z",
     "iopub.status.busy": "2022-03-24T07:18:50.002530Z",
     "iopub.status.idle": "2022-03-24T07:18:50.005402Z",
     "shell.execute_reply": "2022-03-24T07:18:50.004894Z",
     "shell.execute_reply.started": "2022-03-24T07:06:12.915728Z"
    },
    "papermill": {
     "duration": 0.051629,
     "end_time": "2022-03-24T07:18:50.005541",
     "exception": false,
     "start_time": "2022-03-24T07:18:49.953912",
     "status": "completed"
    },
    "tags": []
   },
   "outputs": [],
   "source": [
    "x_2 = iris_2[['SepalLengthCm','SepalWidthCm','PetalLengthCm','PetalWidthCm']]\n",
    "y_2 = iris_2.Species"
   ]
  },
  {
   "cell_type": "code",
   "execution_count": 18,
   "id": "72dbff15",
   "metadata": {
    "execution": {
     "iopub.execute_input": "2022-03-24T07:18:50.096148Z",
     "iopub.status.busy": "2022-03-24T07:18:50.095360Z",
     "iopub.status.idle": "2022-03-24T07:18:50.098542Z",
     "shell.execute_reply": "2022-03-24T07:18:50.099021Z",
     "shell.execute_reply.started": "2022-03-24T07:06:12.964497Z"
    },
    "papermill": {
     "duration": 0.051572,
     "end_time": "2022-03-24T07:18:50.099184",
     "exception": false,
     "start_time": "2022-03-24T07:18:50.047612",
     "status": "completed"
    },
    "tags": []
   },
   "outputs": [
    {
     "data": {
      "text/plain": [
       "(18,)"
      ]
     },
     "execution_count": 18,
     "metadata": {},
     "output_type": "execute_result"
    }
   ],
   "source": [
    "y_1_test.shape"
   ]
  },
  {
   "cell_type": "code",
   "execution_count": 19,
   "id": "466ce1ef",
   "metadata": {
    "execution": {
     "iopub.execute_input": "2022-03-24T07:18:50.191136Z",
     "iopub.status.busy": "2022-03-24T07:18:50.189645Z",
     "iopub.status.idle": "2022-03-24T07:18:50.193818Z",
     "shell.execute_reply": "2022-03-24T07:18:50.194429Z",
     "shell.execute_reply.started": "2022-03-24T07:06:12.977144Z"
    },
    "papermill": {
     "duration": 0.05344,
     "end_time": "2022-03-24T07:18:50.194600",
     "exception": false,
     "start_time": "2022-03-24T07:18:50.141160",
     "status": "completed"
    },
    "tags": []
   },
   "outputs": [
    {
     "data": {
      "text/plain": [
       "(60,)"
      ]
     },
     "execution_count": 19,
     "metadata": {},
     "output_type": "execute_result"
    }
   ],
   "source": [
    "y_2 = y_2.append(y_1_test)\n",
    "y_2.reset_index()\n",
    "y_2.shape"
   ]
  },
  {
   "cell_type": "code",
   "execution_count": 20,
   "id": "0499b856",
   "metadata": {
    "execution": {
     "iopub.execute_input": "2022-03-24T07:18:50.287486Z",
     "iopub.status.busy": "2022-03-24T07:18:50.286827Z",
     "iopub.status.idle": "2022-03-24T07:18:50.289274Z",
     "shell.execute_reply": "2022-03-24T07:18:50.289834Z",
     "shell.execute_reply.started": "2022-03-24T07:06:12.990162Z"
    },
    "papermill": {
     "duration": 0.052083,
     "end_time": "2022-03-24T07:18:50.290020",
     "exception": false,
     "start_time": "2022-03-24T07:18:50.237937",
     "status": "completed"
    },
    "tags": []
   },
   "outputs": [
    {
     "data": {
      "text/plain": [
       "(60, 4)"
      ]
     },
     "execution_count": 20,
     "metadata": {},
     "output_type": "execute_result"
    }
   ],
   "source": [
    "x_2 = x_2.append(x_1_test)\n",
    "x_2.reset_index(drop=True)\n",
    "x_2.shape"
   ]
  },
  {
   "cell_type": "code",
   "execution_count": 21,
   "id": "da7dec2b",
   "metadata": {
    "execution": {
     "iopub.execute_input": "2022-03-24T07:18:50.379069Z",
     "iopub.status.busy": "2022-03-24T07:18:50.378428Z",
     "iopub.status.idle": "2022-03-24T07:18:50.383201Z",
     "shell.execute_reply": "2022-03-24T07:18:50.383827Z",
     "shell.execute_reply.started": "2022-03-24T07:06:13.007254Z"
    },
    "papermill": {
     "duration": 0.051041,
     "end_time": "2022-03-24T07:18:50.384014",
     "exception": false,
     "start_time": "2022-03-24T07:18:50.332973",
     "status": "completed"
    },
    "tags": []
   },
   "outputs": [],
   "source": [
    "from sklearn.model_selection import train_test_split\n",
    "x_2_train, x_2_test , y_2_train, y_2_test = train_test_split(x_2, y_2, test_size=0.3)"
   ]
  },
  {
   "cell_type": "code",
   "execution_count": 22,
   "id": "606be6c6",
   "metadata": {
    "execution": {
     "iopub.execute_input": "2022-03-24T07:18:50.473276Z",
     "iopub.status.busy": "2022-03-24T07:18:50.472615Z",
     "iopub.status.idle": "2022-03-24T07:18:50.505129Z",
     "shell.execute_reply": "2022-03-24T07:18:50.505723Z",
     "shell.execute_reply.started": "2022-03-24T07:07:50.300128Z"
    },
    "papermill": {
     "duration": 0.078763,
     "end_time": "2022-03-24T07:18:50.505893",
     "exception": false,
     "start_time": "2022-03-24T07:18:50.427130",
     "status": "completed"
    },
    "tags": []
   },
   "outputs": [
    {
     "data": {
      "text/plain": [
       "array(['Iris-setosa', 'Iris-setosa', 'Iris-versicolor', 'Iris-virginica',\n",
       "       'Iris-virginica', 'Iris-setosa', 'Iris-virginica', 'Iris-setosa',\n",
       "       'Iris-versicolor', 'Iris-versicolor', 'Iris-setosa',\n",
       "       'Iris-virginica', 'Iris-versicolor', 'Iris-virginica',\n",
       "       'Iris-setosa', 'Iris-virginica', 'Iris-setosa', 'Iris-setosa'],\n",
       "      dtype=object)"
      ]
     },
     "execution_count": 22,
     "metadata": {},
     "output_type": "execute_result"
    }
   ],
   "source": [
    "second_model = LogisticRegression()\n",
    "second_model.fit(x_2_train, y_2_train)\n",
    "sec_pred = second_model.predict(x_2_test)\n",
    "sec_pred"
   ]
  },
  {
   "cell_type": "code",
   "execution_count": 23,
   "id": "c6f07365",
   "metadata": {
    "execution": {
     "iopub.execute_input": "2022-03-24T07:18:50.595906Z",
     "iopub.status.busy": "2022-03-24T07:18:50.595259Z",
     "iopub.status.idle": "2022-03-24T07:18:50.600441Z",
     "shell.execute_reply": "2022-03-24T07:18:50.601066Z",
     "shell.execute_reply.started": "2022-03-24T07:08:21.614926Z"
    },
    "papermill": {
     "duration": 0.051673,
     "end_time": "2022-03-24T07:18:50.601238",
     "exception": false,
     "start_time": "2022-03-24T07:18:50.549565",
     "status": "completed"
    },
    "tags": []
   },
   "outputs": [
    {
     "data": {
      "text/plain": [
       "0.9444444444444444"
      ]
     },
     "execution_count": 23,
     "metadata": {},
     "output_type": "execute_result"
    }
   ],
   "source": [
    "from sklearn import metrics\n",
    "sec_score = metrics.accuracy_score(y_2_test,sec_pred)\n",
    "sec_score"
   ]
  },
  {
   "cell_type": "markdown",
   "id": "823b756a",
   "metadata": {
    "papermill": {
     "duration": 0.043623,
     "end_time": "2022-03-24T07:18:50.688403",
     "exception": false,
     "start_time": "2022-03-24T07:18:50.644780",
     "status": "completed"
    },
    "tags": []
   },
   "source": [
    "# Testing data into new points"
   ]
  },
  {
   "cell_type": "code",
   "execution_count": 24,
   "id": "7a6577c1",
   "metadata": {
    "execution": {
     "iopub.execute_input": "2022-03-24T07:18:50.783896Z",
     "iopub.status.busy": "2022-03-24T07:18:50.783221Z",
     "iopub.status.idle": "2022-03-24T07:18:50.786166Z",
     "shell.execute_reply": "2022-03-24T07:18:50.786660Z",
     "shell.execute_reply.started": "2022-03-24T07:09:43.860630Z"
    },
    "papermill": {
     "duration": 0.054522,
     "end_time": "2022-03-24T07:18:50.786827",
     "exception": false,
     "start_time": "2022-03-24T07:18:50.732305",
     "status": "completed"
    },
    "tags": []
   },
   "outputs": [
    {
     "data": {
      "text/plain": [
       "((16, 6), (16, 6), (16, 6))"
      ]
     },
     "execution_count": 24,
     "metadata": {},
     "output_type": "execute_result"
    }
   ],
   "source": [
    "setosa_3  = setosa[34:]  \n",
    "versicolor_3 = versicolor[34:]\n",
    "virginica_3 = virginica[34:]\n",
    "setosa_3.shape, versicolor_3.shape, virginica_3.shape"
   ]
  },
  {
   "cell_type": "code",
   "execution_count": 25,
   "id": "95574443",
   "metadata": {
    "execution": {
     "iopub.execute_input": "2022-03-24T07:18:50.882563Z",
     "iopub.status.busy": "2022-03-24T07:18:50.881867Z",
     "iopub.status.idle": "2022-03-24T07:18:50.887448Z",
     "shell.execute_reply": "2022-03-24T07:18:50.887935Z",
     "shell.execute_reply.started": "2022-03-24T07:10:12.435114Z"
    },
    "papermill": {
     "duration": 0.056027,
     "end_time": "2022-03-24T07:18:50.888123",
     "exception": false,
     "start_time": "2022-03-24T07:18:50.832096",
     "status": "completed"
    },
    "tags": []
   },
   "outputs": [
    {
     "data": {
      "text/plain": [
       "(48, 6)"
      ]
     },
     "execution_count": 25,
     "metadata": {},
     "output_type": "execute_result"
    }
   ],
   "source": [
    "exten_2 = setosa_3.append(versicolor_3)\n",
    "iris_3 = exten_2.append(virginica_3)\n",
    "iris_3.shape"
   ]
  },
  {
   "cell_type": "code",
   "execution_count": 26,
   "id": "c3220b56",
   "metadata": {
    "execution": {
     "iopub.execute_input": "2022-03-24T07:18:50.984908Z",
     "iopub.status.busy": "2022-03-24T07:18:50.983940Z",
     "iopub.status.idle": "2022-03-24T07:18:50.998397Z",
     "shell.execute_reply": "2022-03-24T07:18:50.998939Z",
     "shell.execute_reply.started": "2022-03-24T07:10:35.695613Z"
    },
    "papermill": {
     "duration": 0.064832,
     "end_time": "2022-03-24T07:18:50.999126",
     "exception": false,
     "start_time": "2022-03-24T07:18:50.934294",
     "status": "completed"
    },
    "tags": []
   },
   "outputs": [
    {
     "data": {
      "text/html": [
       "<div>\n",
       "<style scoped>\n",
       "    .dataframe tbody tr th:only-of-type {\n",
       "        vertical-align: middle;\n",
       "    }\n",
       "\n",
       "    .dataframe tbody tr th {\n",
       "        vertical-align: top;\n",
       "    }\n",
       "\n",
       "    .dataframe thead th {\n",
       "        text-align: right;\n",
       "    }\n",
       "</style>\n",
       "<table border=\"1\" class=\"dataframe\">\n",
       "  <thead>\n",
       "    <tr style=\"text-align: right;\">\n",
       "      <th></th>\n",
       "      <th>index</th>\n",
       "      <th>Id</th>\n",
       "      <th>SepalLengthCm</th>\n",
       "      <th>SepalWidthCm</th>\n",
       "      <th>PetalLengthCm</th>\n",
       "      <th>PetalWidthCm</th>\n",
       "      <th>Species</th>\n",
       "    </tr>\n",
       "  </thead>\n",
       "  <tbody>\n",
       "    <tr>\n",
       "      <th>0</th>\n",
       "      <td>34</td>\n",
       "      <td>35</td>\n",
       "      <td>4.9</td>\n",
       "      <td>3.1</td>\n",
       "      <td>1.5</td>\n",
       "      <td>0.1</td>\n",
       "      <td>Iris-setosa</td>\n",
       "    </tr>\n",
       "    <tr>\n",
       "      <th>1</th>\n",
       "      <td>35</td>\n",
       "      <td>36</td>\n",
       "      <td>5.0</td>\n",
       "      <td>3.2</td>\n",
       "      <td>1.2</td>\n",
       "      <td>0.2</td>\n",
       "      <td>Iris-setosa</td>\n",
       "    </tr>\n",
       "    <tr>\n",
       "      <th>2</th>\n",
       "      <td>36</td>\n",
       "      <td>37</td>\n",
       "      <td>5.5</td>\n",
       "      <td>3.5</td>\n",
       "      <td>1.3</td>\n",
       "      <td>0.2</td>\n",
       "      <td>Iris-setosa</td>\n",
       "    </tr>\n",
       "    <tr>\n",
       "      <th>3</th>\n",
       "      <td>37</td>\n",
       "      <td>38</td>\n",
       "      <td>4.9</td>\n",
       "      <td>3.1</td>\n",
       "      <td>1.5</td>\n",
       "      <td>0.1</td>\n",
       "      <td>Iris-setosa</td>\n",
       "    </tr>\n",
       "    <tr>\n",
       "      <th>4</th>\n",
       "      <td>38</td>\n",
       "      <td>39</td>\n",
       "      <td>4.4</td>\n",
       "      <td>3.0</td>\n",
       "      <td>1.3</td>\n",
       "      <td>0.2</td>\n",
       "      <td>Iris-setosa</td>\n",
       "    </tr>\n",
       "  </tbody>\n",
       "</table>\n",
       "</div>"
      ],
      "text/plain": [
       "   index  Id  SepalLengthCm  SepalWidthCm  PetalLengthCm  PetalWidthCm  \\\n",
       "0     34  35            4.9           3.1            1.5           0.1   \n",
       "1     35  36            5.0           3.2            1.2           0.2   \n",
       "2     36  37            5.5           3.5            1.3           0.2   \n",
       "3     37  38            4.9           3.1            1.5           0.1   \n",
       "4     38  39            4.4           3.0            1.3           0.2   \n",
       "\n",
       "       Species  \n",
       "0  Iris-setosa  \n",
       "1  Iris-setosa  \n",
       "2  Iris-setosa  \n",
       "3  Iris-setosa  \n",
       "4  Iris-setosa  "
      ]
     },
     "execution_count": 26,
     "metadata": {},
     "output_type": "execute_result"
    }
   ],
   "source": [
    "iris_3.reset_index(inplace=True)\n",
    "iris_3.head()"
   ]
  },
  {
   "cell_type": "code",
   "execution_count": 27,
   "id": "337b8292",
   "metadata": {
    "execution": {
     "iopub.execute_input": "2022-03-24T07:18:51.094452Z",
     "iopub.status.busy": "2022-03-24T07:18:51.093465Z",
     "iopub.status.idle": "2022-03-24T07:18:51.099491Z",
     "shell.execute_reply": "2022-03-24T07:18:51.099961Z",
     "shell.execute_reply.started": "2022-03-24T07:11:32.114625Z"
    },
    "papermill": {
     "duration": 0.055006,
     "end_time": "2022-03-24T07:18:51.100176",
     "exception": false,
     "start_time": "2022-03-24T07:18:51.045170",
     "status": "completed"
    },
    "tags": []
   },
   "outputs": [],
   "source": [
    "x_3 = iris_3[['SepalLengthCm','SepalWidthCm','PetalLengthCm','PetalWidthCm']]\n",
    "y_3 = iris_3.Species"
   ]
  },
  {
   "cell_type": "markdown",
   "id": "b2c8e10e",
   "metadata": {
    "papermill": {
     "duration": 0.044704,
     "end_time": "2022-03-24T07:18:51.190236",
     "exception": false,
     "start_time": "2022-03-24T07:18:51.145532",
     "status": "completed"
    },
    "tags": []
   },
   "source": [
    "# Testing on 1st model"
   ]
  },
  {
   "cell_type": "code",
   "execution_count": 28,
   "id": "89c6db66",
   "metadata": {
    "execution": {
     "iopub.execute_input": "2022-03-24T07:18:51.288133Z",
     "iopub.status.busy": "2022-03-24T07:18:51.287475Z",
     "iopub.status.idle": "2022-03-24T07:18:51.289953Z",
     "shell.execute_reply": "2022-03-24T07:18:51.290553Z",
     "shell.execute_reply.started": "2022-03-24T07:12:54.269258Z"
    },
    "papermill": {
     "duration": 0.055456,
     "end_time": "2022-03-24T07:18:51.290719",
     "exception": false,
     "start_time": "2022-03-24T07:18:51.235263",
     "status": "completed"
    },
    "tags": []
   },
   "outputs": [
    {
     "data": {
      "text/plain": [
       "array(['Iris-setosa', 'Iris-setosa', 'Iris-setosa', 'Iris-setosa',\n",
       "       'Iris-setosa', 'Iris-setosa', 'Iris-setosa', 'Iris-setosa',\n",
       "       'Iris-setosa', 'Iris-setosa', 'Iris-setosa', 'Iris-setosa',\n",
       "       'Iris-setosa', 'Iris-setosa', 'Iris-setosa', 'Iris-setosa',\n",
       "       'Iris-versicolor', 'Iris-versicolor', 'Iris-versicolor',\n",
       "       'Iris-versicolor', 'Iris-versicolor', 'Iris-versicolor',\n",
       "       'Iris-versicolor', 'Iris-versicolor', 'Iris-versicolor',\n",
       "       'Iris-versicolor', 'Iris-versicolor', 'Iris-versicolor',\n",
       "       'Iris-versicolor', 'Iris-versicolor', 'Iris-versicolor',\n",
       "       'Iris-versicolor', 'Iris-virginica', 'Iris-virginica',\n",
       "       'Iris-virginica', 'Iris-virginica', 'Iris-versicolor',\n",
       "       'Iris-virginica', 'Iris-virginica', 'Iris-virginica',\n",
       "       'Iris-virginica', 'Iris-virginica', 'Iris-virginica',\n",
       "       'Iris-virginica', 'Iris-versicolor', 'Iris-virginica',\n",
       "       'Iris-virginica', 'Iris-virginica'], dtype=object)"
      ]
     },
     "execution_count": 28,
     "metadata": {},
     "output_type": "execute_result"
    }
   ],
   "source": [
    "first_test_pred = first_model.predict(x_3)\n",
    "first_test_pred"
   ]
  },
  {
   "cell_type": "code",
   "execution_count": 29,
   "id": "13495cb2",
   "metadata": {
    "execution": {
     "iopub.execute_input": "2022-03-24T07:18:51.385410Z",
     "iopub.status.busy": "2022-03-24T07:18:51.384699Z",
     "iopub.status.idle": "2022-03-24T07:18:51.389922Z",
     "shell.execute_reply": "2022-03-24T07:18:51.390460Z",
     "shell.execute_reply.started": "2022-03-24T07:13:43.040709Z"
    },
    "papermill": {
     "duration": 0.05446,
     "end_time": "2022-03-24T07:18:51.390634",
     "exception": false,
     "start_time": "2022-03-24T07:18:51.336174",
     "status": "completed"
    },
    "tags": []
   },
   "outputs": [
    {
     "data": {
      "text/plain": [
       "0.9583333333333334"
      ]
     },
     "execution_count": 29,
     "metadata": {},
     "output_type": "execute_result"
    }
   ],
   "source": [
    "metrics.accuracy_score(y_3,first_test_pred)"
   ]
  },
  {
   "cell_type": "code",
   "execution_count": 30,
   "id": "797a7bb1",
   "metadata": {
    "execution": {
     "iopub.execute_input": "2022-03-24T07:18:51.488203Z",
     "iopub.status.busy": "2022-03-24T07:18:51.487537Z",
     "iopub.status.idle": "2022-03-24T07:18:51.493667Z",
     "shell.execute_reply": "2022-03-24T07:18:51.494274Z",
     "shell.execute_reply.started": "2022-03-24T07:16:07.615928Z"
    },
    "papermill": {
     "duration": 0.05801,
     "end_time": "2022-03-24T07:18:51.494448",
     "exception": false,
     "start_time": "2022-03-24T07:18:51.436438",
     "status": "completed"
    },
    "tags": []
   },
   "outputs": [
    {
     "data": {
      "text/plain": [
       "array([1.        , 0.94117647, 0.93333333])"
      ]
     },
     "execution_count": 30,
     "metadata": {},
     "output_type": "execute_result"
    }
   ],
   "source": [
    "metrics.f1_score(y_3, first_test_pred, average=None)"
   ]
  },
  {
   "cell_type": "markdown",
   "id": "999e967a",
   "metadata": {
    "papermill": {
     "duration": 0.045683,
     "end_time": "2022-03-24T07:18:51.586625",
     "exception": false,
     "start_time": "2022-03-24T07:18:51.540942",
     "status": "completed"
    },
    "tags": []
   },
   "source": [
    "# Testing on 2nd Model"
   ]
  },
  {
   "cell_type": "code",
   "execution_count": 31,
   "id": "9078974b",
   "metadata": {
    "execution": {
     "iopub.execute_input": "2022-03-24T07:18:51.682564Z",
     "iopub.status.busy": "2022-03-24T07:18:51.681551Z",
     "iopub.status.idle": "2022-03-24T07:18:51.688919Z",
     "shell.execute_reply": "2022-03-24T07:18:51.689433Z",
     "shell.execute_reply.started": "2022-03-24T07:14:46.109870Z"
    },
    "papermill": {
     "duration": 0.056705,
     "end_time": "2022-03-24T07:18:51.689603",
     "exception": false,
     "start_time": "2022-03-24T07:18:51.632898",
     "status": "completed"
    },
    "tags": []
   },
   "outputs": [
    {
     "data": {
      "text/plain": [
       "array(['Iris-setosa', 'Iris-setosa', 'Iris-setosa', 'Iris-setosa',\n",
       "       'Iris-setosa', 'Iris-setosa', 'Iris-setosa', 'Iris-setosa',\n",
       "       'Iris-setosa', 'Iris-setosa', 'Iris-setosa', 'Iris-setosa',\n",
       "       'Iris-setosa', 'Iris-setosa', 'Iris-setosa', 'Iris-setosa',\n",
       "       'Iris-versicolor', 'Iris-versicolor', 'Iris-versicolor',\n",
       "       'Iris-versicolor', 'Iris-versicolor', 'Iris-versicolor',\n",
       "       'Iris-versicolor', 'Iris-versicolor', 'Iris-versicolor',\n",
       "       'Iris-versicolor', 'Iris-versicolor', 'Iris-versicolor',\n",
       "       'Iris-versicolor', 'Iris-versicolor', 'Iris-versicolor',\n",
       "       'Iris-versicolor', 'Iris-virginica', 'Iris-virginica',\n",
       "       'Iris-virginica', 'Iris-virginica', 'Iris-virginica',\n",
       "       'Iris-virginica', 'Iris-virginica', 'Iris-virginica',\n",
       "       'Iris-virginica', 'Iris-virginica', 'Iris-virginica',\n",
       "       'Iris-virginica', 'Iris-virginica', 'Iris-virginica',\n",
       "       'Iris-virginica', 'Iris-virginica'], dtype=object)"
      ]
     },
     "execution_count": 31,
     "metadata": {},
     "output_type": "execute_result"
    }
   ],
   "source": [
    "sec_test_pred = second_model.predict(x_3)\n",
    "sec_test_pred"
   ]
  },
  {
   "cell_type": "code",
   "execution_count": 32,
   "id": "38bfbdff",
   "metadata": {
    "execution": {
     "iopub.execute_input": "2022-03-24T07:18:51.786674Z",
     "iopub.status.busy": "2022-03-24T07:18:51.785697Z",
     "iopub.status.idle": "2022-03-24T07:18:51.791441Z",
     "shell.execute_reply": "2022-03-24T07:18:51.791915Z",
     "shell.execute_reply.started": "2022-03-24T07:15:12.773866Z"
    },
    "papermill": {
     "duration": 0.055691,
     "end_time": "2022-03-24T07:18:51.792098",
     "exception": false,
     "start_time": "2022-03-24T07:18:51.736407",
     "status": "completed"
    },
    "tags": []
   },
   "outputs": [
    {
     "data": {
      "text/plain": [
       "1.0"
      ]
     },
     "execution_count": 32,
     "metadata": {},
     "output_type": "execute_result"
    }
   ],
   "source": [
    "metrics.accuracy_score(y_3,sec_test_pred)"
   ]
  },
  {
   "cell_type": "code",
   "execution_count": 33,
   "id": "337a3f61",
   "metadata": {
    "execution": {
     "iopub.execute_input": "2022-03-24T07:18:51.891424Z",
     "iopub.status.busy": "2022-03-24T07:18:51.890459Z",
     "iopub.status.idle": "2022-03-24T07:18:51.897577Z",
     "shell.execute_reply": "2022-03-24T07:18:51.898044Z",
     "shell.execute_reply.started": "2022-03-24T07:16:45.495015Z"
    },
    "papermill": {
     "duration": 0.05911,
     "end_time": "2022-03-24T07:18:51.898219",
     "exception": false,
     "start_time": "2022-03-24T07:18:51.839109",
     "status": "completed"
    },
    "tags": []
   },
   "outputs": [
    {
     "data": {
      "text/plain": [
       "array([1., 1., 1.])"
      ]
     },
     "execution_count": 33,
     "metadata": {},
     "output_type": "execute_result"
    }
   ],
   "source": [
    " metrics.f1_score(y_3, sec_test_pred, average=None)"
   ]
  }
 ],
 "metadata": {
  "kernelspec": {
   "display_name": "Python 3",
   "language": "python",
   "name": "python3"
  },
  "language_info": {
   "codemirror_mode": {
    "name": "ipython",
    "version": 3
   },
   "file_extension": ".py",
   "mimetype": "text/x-python",
   "name": "python",
   "nbconvert_exporter": "python",
   "pygments_lexer": "ipython3",
   "version": "3.7.12"
  },
  "papermill": {
   "default_parameters": {},
   "duration": 15.375601,
   "end_time": "2022-03-24T07:18:52.659911",
   "environment_variables": {},
   "exception": null,
   "input_path": "__notebook__.ipynb",
   "output_path": "__notebook__.ipynb",
   "parameters": {},
   "start_time": "2022-03-24T07:18:37.284310",
   "version": "2.3.3"
  }
 },
 "nbformat": 4,
 "nbformat_minor": 5
}
